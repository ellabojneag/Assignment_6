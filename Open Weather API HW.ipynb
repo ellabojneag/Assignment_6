{
 "cells": [
  {
   "cell_type": "code",
   "execution_count": 33,
   "metadata": {},
   "outputs": [],
   "source": [
    "# Dependencies\n",
    "import requests\n",
    "import json \n",
    "import random\n",
    "from config import api_key\n",
    "import numpy as np\n",
    "import pandas as pd"
   ]
  },
  {
   "cell_type": "code",
   "execution_count": 34,
   "metadata": {},
   "outputs": [
    {
     "name": "stdout",
     "output_type": "stream",
     "text": [
      "http://api.openweathermap.org/data/2.5/weather?lat=+40.7128&lon=-74.0060&appid=f76071fa547cc5920ea2cef3275ff116\n"
     ]
    }
   ],
   "source": [
    "# Save config information \n",
    "# api.openweathermap.org/data/2.5/weather?lat={lat}&lon={lon}...API documentation for Lat and Long\n",
    "# Assign Lat and Long\n",
    "\n",
    "lat=\"+40.7128\"\n",
    "lon=\"-74.0060\"\n",
    "\n",
    "\n",
    "\n",
    "\n",
    "# Build URL with API\n",
    "url = \"http://api.openweathermap.org/data/2.5/weather?\"\n",
    "\n",
    "query_url = url + \"lat=\" + lat +\"&lon=\"+ lon + \"&appid=\" + api_key\n",
    "\n",
    "print(query_url)\n",
    "\n",
    "\n",
    "\n"
   ]
  },
  {
   "cell_type": "code",
   "execution_count": 35,
   "metadata": {},
   "outputs": [
    {
     "data": {
      "text/plain": [
       "<Response [200]>"
      ]
     },
     "execution_count": 35,
     "metadata": {},
     "output_type": "execute_result"
    }
   ],
   "source": [
    "# Check to make sure site(object) is responding \n",
    "\n",
    "Request_Object=requests.get(query_url)\n",
    "\n",
    "Request_Object\n",
    "\n",
    "# # Make object into JSON format data frame\n",
    "\n",
    "# Object_Response=Request_Object.json()\n",
    "\n",
    "# # Make data frame pretty\n",
    "\n",
    "# # weather=json.dumps(Object_Response, indent=4, sort_keys=True)\n",
    "\n",
    "# # Check outcomes \n",
    "\n",
    "# # print(json.dumps(Object_Response, indent=4, sort_keys=True))\n",
    "\n",
    "# # print(f\"The weather API responded with: {Object_Response}.\")\n",
    "\n",
    "# print(Object_Response)"
   ]
  },
  {
   "cell_type": "code",
   "execution_count": 36,
   "metadata": {},
   "outputs": [
    {
     "name": "stdout",
     "output_type": "stream",
     "text": [
      "The Latitude of New York is 40.71 and it is 278.53 kelvins outside\n",
      "There is a humidity of 35 and a cloudiness of 1 percent\n",
      "The windspeed is 1.64 meters/second\n"
     ]
    }
   ],
   "source": [
    "# Try to obtain Latitude, Name, Temperature(F), Humidity, Cloudiness, Windspeed(mph) from city \n",
    "\n",
    "Lat=Object_Response[\"coord\"][\"lat\"]\n",
    "Name=Object_Response['name']\n",
    "Temperature=Object_Response[\"main\"]['temp']\n",
    "Humidity=Object_Response[\"main\"][\"humidity\"]\n",
    "Cloudiness=Object_Response['clouds']['all']\n",
    "Windspeed=Object_Response['wind']['speed']\n",
    "\n",
    "\n",
    "print(f\"The Latitude of {Name} is {Lat} and it is {Temperature} kelvins outside\")\n",
    "print(f\"There is a humidity of {Humidity} and a cloudiness of {Cloudiness} percent\")\n",
    "print(f\"The windspeed is {Windspeed} meters/second\")\n",
    "      "
   ]
  },
  {
   "cell_type": "code",
   "execution_count": 37,
   "metadata": {},
   "outputs": [
    {
     "name": "stdout",
     "output_type": "stream",
     "text": [
      "http://api.openweathermap.org/data/2.5/weather?lat=-180&lon=50&appid=f76071fa547cc5920ea2cef3275ff116\n"
     ]
    },
    {
     "data": {
      "text/plain": [
       "'http://api.openweathermap.org/data/2.5/weather?lat=-180&lon=50&appid=f76071fa547cc5920ea2cef3275ff116'"
      ]
     },
     "execution_count": 37,
     "metadata": {},
     "output_type": "execute_result"
    }
   ],
   "source": [
    "# For a whole world of latitudes \n",
    "\n",
    "url = \"http://api.openweathermap.org/data/2.5/weather?\"\n",
    "\n",
    "index= list(range(360))\n",
    "latitudes=(list(range(-180,180)))\n",
    "Fivehundred_url=[]\n",
    "\n",
    "for x in index:\n",
    "    lat=str(latitudes[x])\n",
    "    lon=\"50\"\n",
    "    New_URL= (url + \"lat=\" + lat +\"&lon=\"+ lon + \"&appid=\" + api_key)\n",
    "    Fivehundred_url.append(New_URL)\n",
    "    \n",
    "# print(Fivehundred_url)\n",
    "\n",
    "print(Fivehundred_url[0])\n",
    "\n",
    "df=pd.DataFrame(Fivehundred_url)\n",
    "\n",
    "\n",
    "df_2=df.rename(columns={0:\"Same Longitude=50 but Different Latitudes\"})\n",
    "df_2\n",
    "\n",
    "df_2.iloc[0,0]\n"
   ]
  },
  {
   "cell_type": "code",
   "execution_count": 51,
   "metadata": {},
   "outputs": [
    {
     "name": "stdout",
     "output_type": "stream",
     "text": [
      "{'coord': {'lon': 50, 'lat': -30}, 'weather': [{'id': 500, 'main': 'Rain', 'description': 'light rain', 'icon': '10n'}], 'base': 'stations', 'main': {'temp': 296.623, 'pressure': 1034.01, 'humidity': 100, 'temp_min': 296.623, 'temp_max': 296.623, 'sea_level': 1034.11, 'grnd_level': 1034.01}, 'wind': {'speed': 7.04, 'deg': 107.5}, 'rain': {'3h': 0.295}, 'clouds': {'all': 92}, 'dt': 1523298710, 'sys': {'message': 0.0046, 'sunrise': 1523242544, 'sunset': 1523283999}, 'id': 0, 'name': '', 'cod': 200}\n"
     ]
    }
   ],
   "source": [
    "Request_Object_1=requests.get(df_2.iloc[150,0])\n",
    "Request_Object_1\n",
    "\n",
    "# # Make object into JSON format data frame\n",
    "\n",
    "Object_Response_1=Request_Object_1.json()\n",
    "print(Object_Response_1)\n",
    "\n"
   ]
  },
  {
   "cell_type": "code",
   "execution_count": null,
   "metadata": {
    "collapsed": true
   },
   "outputs": [],
   "source": []
  }
 ],
 "metadata": {
  "kernelspec": {
   "display_name": "Python 3",
   "language": "python",
   "name": "python3"
  },
  "language_info": {
   "codemirror_mode": {
    "name": "ipython",
    "version": 3
   },
   "file_extension": ".py",
   "mimetype": "text/x-python",
   "name": "python",
   "nbconvert_exporter": "python",
   "pygments_lexer": "ipython3",
   "version": "3.6.3"
  }
 },
 "nbformat": 4,
 "nbformat_minor": 2
}
